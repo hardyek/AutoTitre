{
 "cells": [
  {
   "cell_type": "code",
   "execution_count": 4,
   "id": "ca1ba691-a266-4580-bcb5-e9f767aea378",
   "metadata": {},
   "outputs": [],
   "source": [
    "import numpy as np \n",
    "import gymnasium as gym\n",
    "from gymnasium import spaces\n",
    "import random\n",
    "import time\n",
    "import sys\n",
    "from IPython.display import display, clear_output\n",
    "from util_func import drytest_binary, test_algorithm_binary"
   ]
  },
  {
   "cell_type": "code",
   "execution_count": 103,
   "id": "4881d34a-d858-45f2-ba7b-75a7be6984fa",
   "metadata": {},
   "outputs": [],
   "source": [
    "class TitrationEnv(gym.Env):\n",
    "\n",
    "    def __init__(self,render_mode=None):\n",
    "        self.action_space = spaces.Discrete(2)\n",
    "        self.state = 0\n",
    "        self.threshold = False\n",
    "        self.steps_remaining = 1000\n",
    "\n",
    "    def step(self, threshold, action):\n",
    "        self.state += action * 0.1\n",
    "        self.steps_remaining -= 1\n",
    "        self.threshold = threshold\n",
    "        self.action = action\n",
    "        \n",
    "        if self.steps_remaining <= 0:\n",
    "            end = True\n",
    "        else:\n",
    "            end = False\n",
    "        \n",
    "        reward = 0\n",
    "        if threshold and action == 0:\n",
    "            reward = 1\n",
    "        if threshold and action == 1:\n",
    "            reward = -1\n",
    "                                  \n",
    "        return self.state, reward, end\n",
    "        \n",
    "    def render(self,mode,action,threshold):\n",
    "        filled = u'\\u25FC' #Filled\n",
    "        empty = u'\\u25FB' #Empty\n",
    "        \n",
    "        amount_added = self.state\n",
    "\n",
    "        #Max progress bar length 100 \n",
    "\n",
    "        main_1 = 50 / 100\n",
    "        num_filled = int(amount_added // main_1)\n",
    "\n",
    "        mainbar = \"\"\n",
    "        for i in range(0,num_filled):\n",
    "            mainbar += filled\n",
    "        for i in range(num_filled,100):\n",
    "            mainbar += empty\n",
    "\n",
    "        reward = 0\n",
    "        if threshold and action == 0:\n",
    "            reward = 1\n",
    "        if threshold and action == 1:\n",
    "            reward = -1\n",
    "        \n",
    "        if threshold:\n",
    "            threshold_str = \"Threshold:\"+ u'\\u2705'+'(Met)'\n",
    "        else:\n",
    "            threshold_str = \"Threshold:\" + u'\\u274C' + ' (Not Met)'\n",
    "        final = f\"Action: {action}   \\nReward: {round(reward,1)}   \\nAmount Added: {round(amount_added,1)} \\nSteps Remaining: {self.steps_remaining}\"\n",
    "\n",
    "        master_string = f\"{mainbar}\\n{threshold_str}\\n{final}\"\n",
    "        if mode == \"human\":\n",
    "            time.sleep(0.001)\n",
    "            sys.stdout.flush()\n",
    "            clear_output(wait=True)\n",
    "\n",
    "        print(f\"{master_string}\")\n",
    "    \n",
    "    def reset(self):\n",
    "        self.state = 0\n",
    "        self.threshold = False\n",
    "        self.steps_remaining = 1000\n",
    "        return self.state"
   ]
  },
  {
   "cell_type": "code",
   "execution_count": 104,
   "id": "d17b4d81-d30f-4877-b5b2-1d0269370836",
   "metadata": {},
   "outputs": [],
   "source": [
    "env = TitrationEnv()"
   ]
  },
  {
   "cell_type": "code",
   "execution_count": 105,
   "id": "429b43f3-1d0a-4c75-9fe2-23c4644a2b1e",
   "metadata": {},
   "outputs": [],
   "source": [
    "def decision(threshold):\n",
    "    if threshold:\n",
    "        return 0\n",
    "    else: \n",
    "        return 1"
   ]
  },
  {
   "cell_type": "code",
   "execution_count": 110,
   "id": "a29eb3a2-85f5-4724-80fa-691e09bd6e8d",
   "metadata": {},
   "outputs": [
    {
     "name": "stdout",
     "output_type": "stream",
     "text": [
      "◼◼◼◼◼◼◼◼◼◼◼◼◼◼◼◼◼◼◼◼◼◼◼◼◼◼◼◼◼◼◼◼◼◼◼◼◼◼◼◼◻◻◻◻◻◻◻◻◻◻◻◻◻◻◻◻◻◻◻◻◻◻◻◻◻◻◻◻◻◻◻◻◻◻◻◻◻◻◻◻◻◻◻◻◻◻◻◻◻◻◻◻◻◻◻◻◻◻◻◻\n",
      "Threshold:✅(Met)\n",
      "Action: 0   \n",
      "Reward: 1   \n",
      "Amount Added: 20.3 \n",
      "Steps Remaining: 1\n",
      "Score:  796\n"
     ]
    }
   ],
   "source": [
    "def sim_threshold(state,threshold):\n",
    "    if threshold == True:\n",
    "        return True\n",
    "    elif state > 20 and state < 30:\n",
    "        rand = random.randint(1,20)\n",
    "        if rand == 5:\n",
    "            return True\n",
    "        else:\n",
    "            return False\n",
    "    elif state > 30:\n",
    "        return True\n",
    "    else:\n",
    "        return False\n",
    "\n",
    "state = env.reset()\n",
    "threshold = False\n",
    "end = False\n",
    "score = 0\n",
    "while not end:\n",
    "    action = decision(threshold)\n",
    "    threshold = sim_threshold(state,threshold)\n",
    "    env.render(\"human\",action,threshold)\n",
    "    state, reward, end = env.step(threshold,action)\n",
    "    score += reward\n",
    "print(\"Score: \", round(score,1))"
   ]
  },
  {
   "cell_type": "code",
   "execution_count": null,
   "id": "6d44d6b3-c2f3-421a-acc9-1058321da2b3",
   "metadata": {},
   "outputs": [],
   "source": []
  }
 ],
 "metadata": {
  "kernelspec": {
   "display_name": "env",
   "language": "python",
   "name": "python3"
  },
  "language_info": {
   "codemirror_mode": {
    "name": "ipython",
    "version": 3
   },
   "file_extension": ".py",
   "mimetype": "text/x-python",
   "name": "python",
   "nbconvert_exporter": "python",
   "pygments_lexer": "ipython3",
   "version": "3.9.13"
  },
  "vscode": {
   "interpreter": {
    "hash": "0cce66624681f9bd2878786fe70abd2b8c281dd20768c5c55cc9c4642b40eee4"
   }
  }
 },
 "nbformat": 4,
 "nbformat_minor": 5
}
