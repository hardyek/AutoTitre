{
 "cells": [
  {
   "cell_type": "code",
   "execution_count": 10,
   "metadata": {},
   "outputs": [],
   "source": [
    "from PIL import Image\n",
    "import os"
   ]
  },
  {
   "cell_type": "code",
   "execution_count": 9,
   "metadata": {},
   "outputs": [],
   "source": [
    "IMAGE_PATH = \"C:\\\\Users\\\\hardy\\\\titration-ML\\\\Indicator-Network\\\\workspace\\\\images\\\\collectedimages\\\\\"\n",
    "LABELS = [\"methyl-orange-acid\",\"methyl-orange-alkali\",\"no-indicator\",\"phenolphthalein-acid\",\"phenolphthalein-alkali\"]\n",
    "SAVE_PATH = \"C:\\\\Users\\\\hardy\\\\titration-ML\\\\Indicator-Network\\\\workspace\\\\images\\\\resizedimages\\\\\""
   ]
  },
  {
   "cell_type": "code",
   "execution_count": 14,
   "metadata": {},
   "outputs": [],
   "source": [
    "new_size = (600, 900)\n",
    "\n",
    "\n",
    "for i in range(len(LABELS)):\n",
    "    input_path = os.path.join(IMAGE_PATH, LABELS[i])\n",
    "    output_path = os.path.join(SAVE_PATH, LABELS[i])\n",
    "\n",
    "    for filename in os.listdir(input_path):\n",
    "        if filename.endswith('.JPG'):\n",
    "            \n",
    "            image = Image.open(os.path.join(input_path, filename))\n",
    "            \n",
    "            try:\n",
    "                exif = dict(image._getexif().items())\n",
    "                if exif[274] == 3:\n",
    "                    image = image.rotate(180, expand=True)\n",
    "                elif exif[274] == 6:\n",
    "                    image = image.rotate(270, expand=True)\n",
    "                elif exif[274] == 8:\n",
    "                    image = image.rotate(90, expand=True)\n",
    "            except (AttributeError, KeyError, TypeError):\n",
    "                pass\n",
    "        \n",
    "            image = image.resize(new_size)\n",
    "\n",
    "            image.save(os.path.join(output_path, filename))"
   ]
  }
 ],
 "metadata": {
  "kernelspec": {
   "display_name": "Titration-ML-env",
   "language": "python",
   "name": "titration-ml-env"
  },
  "language_info": {
   "codemirror_mode": {
    "name": "ipython",
    "version": 3
   },
   "file_extension": ".py",
   "mimetype": "text/x-python",
   "name": "python",
   "nbconvert_exporter": "python",
   "pygments_lexer": "ipython3",
   "version": "3.9.13"
  }
 },
 "nbformat": 4,
 "nbformat_minor": 2
}
